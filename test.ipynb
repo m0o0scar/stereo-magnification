{
 "cells": [
  {
   "cell_type": "code",
   "execution_count": 26,
   "metadata": {
    "vscode": {
     "languageId": "shellscript"
    }
   },
   "outputs": [
    {
     "name": "stdout",
     "output_type": "stream",
     "text": [
      "WARNING:tensorflow:From /Users/tangqh/opt/miniconda3/envs/pytorch_m1/lib/python3.10/site-packages/tensorflow/python/compat/v2_compat.py:107: disable_resource_variables (from tensorflow.python.ops.variable_scope) is deprecated and will be removed in a future version.\n",
      "Instructions for updating:\n",
      "non-resource variables are not supported in the long term\n",
      "Padding inputs: padx=8, pady=8 (max_multiple=2)\n",
      "WARNING:tensorflow:From /Users/tangqh/opt/miniconda3/envs/pytorch_m1/lib/python3.10/site-packages/tensorflow/python/util/dispatch.py:1176: to_float (from tensorflow.python.ops.math_ops) is deprecated and will be removed in a future version.\n",
      "Instructions for updating:\n",
      "Use `tf.cast` instead.\n",
      "W0703 14:27:52.678297 8389385728 deprecation.py:350] From /Users/tangqh/opt/miniconda3/envs/pytorch_m1/lib/python3.10/site-packages/tensorflow/python/util/dispatch.py:1176: to_float (from tensorflow.python.ops.math_ops) is deprecated and will be removed in a future version.\n",
      "Instructions for updating:\n",
      "Use `tf.cast` instead.\n",
      "2023-07-03 14:27:52.685362: I tensorflow/compiler/mlir/mlir_graph_optimization_pass.cc:357] MLIR V1 optimization pass is not enabled\n",
      "2023-07-03 14:27:52.686276: W tensorflow/tsl/platform/profile_utils/cpu_utils.cc:128] Failed to get CPU frequency: 0 Hz\n",
      "Original size: width=1920, height=1080\n",
      "     MPI size: width=1936, height=1088\n",
      "/Users/tangqh/opt/miniconda3/envs/pytorch_m1/lib/python3.10/site-packages/tensorflow/python/keras/engine/base_layer_v1.py:1694: UserWarning: `layer.apply` is deprecated and will be removed in a future version. Please use `layer.__call__` method instead.\n",
      "  warnings.warn('`layer.apply` is deprecated and '\n",
      "WARNING:tensorflow:From /Users/tangqh/Documents/projects/spoon/stereo-magnification/./mpi_from_images.py:281: Supervisor.__init__ (from tensorflow.python.training.supervisor) is deprecated and will be removed in a future version.\n",
      "Instructions for updating:\n",
      "Please switch to tf.train.MonitoredTrainingSession\n",
      "W0703 14:27:54.220462 8389385728 deprecation.py:350] From /Users/tangqh/Documents/projects/spoon/stereo-magnification/./mpi_from_images.py:281: Supervisor.__init__ (from tensorflow.python.training.supervisor) is deprecated and will be removed in a future version.\n",
      "Instructions for updating:\n",
      "Please switch to tf.train.MonitoredTrainingSession\n",
      "Inferring MPI...\n",
      "INFO:tensorflow:Running local_init_op.\n",
      "I0703 14:27:55.600462 8389385728 session_manager.py:526] Running local_init_op.\n",
      "INFO:tensorflow:Done running local_init_op.\n",
      "I0703 14:27:55.627413 8389385728 session_manager.py:529] Done running local_init_op.\n",
      "INFO:tensorflow:Starting standard services.\n",
      "I0703 14:27:59.684634 8389385728 supervisor.py:733] Starting standard services.\n",
      "INFO:tensorflow:Starting queue runners.\n",
      "I0703 14:27:59.684732 8389385728 supervisor.py:739] Starting queue runners.\n",
      "INFO:tensorflow:Restoring parameters from models/siggraph_model_20180701/model.latest\n",
      "I0703 14:27:59.686331 8389385728 saver.py:1410] Restoring parameters from models/siggraph_model_20180701/model.latest\n",
      "Rendering new views...\n",
      "    offset: -2.0\n",
      "    offset: -1.5\n",
      "    offset: -1.0\n",
      "    offset: -0.5\n",
      "    offset: 0.0\n",
      "    offset: 0.5\n",
      "    offset: 1.0\n"
     ]
    }
   ],
   "source": [
    "# @title Run example\n",
    "\n",
    "# To generate an MPI and render sample output images for this example image\n",
    "# pair, run the following sample command:\n",
    "\n",
    "!python ./mpi_from_images.py \\\n",
    "  --image1=examples/bananas/bananas1.jpg \\\n",
    "  --image2=examples/bananas/bananas2.jpg \\\n",
    "  --pose1=\"0.999947548 -0.001357046 -0.010151989 0.359417914 0.001413203 0.999983728 0.005526535 -0.003794850 0.010144324 -0.005540592 0.999933183 0.124850837\" \\\n",
    "  --pose2=\"0.999962628 -0.002106981 -0.008386925 0.376296459 0.002151508 0.999983609 0.005303705 -0.001512435 0.008375612 -0.005321552 0.999950767 0.124671650\" \\\n",
    "  --xoffset=0.017 \\\n",
    "  --output_dir=examples/bananas/results \\\n",
    "  --render_multiples=-2,-1.5,-1,-0.5,0,0.5,1,1.5,2 \\\n",
    "  --render"
   ]
  }
 ],
 "metadata": {
  "kernelspec": {
   "display_name": "pytorch_m1",
   "language": "python",
   "name": "python3"
  },
  "language_info": {
   "codemirror_mode": {
    "name": "ipython",
    "version": 3
   },
   "file_extension": ".py",
   "mimetype": "text/x-python",
   "name": "python",
   "nbconvert_exporter": "python",
   "pygments_lexer": "ipython3",
   "version": "3.10.11"
  },
  "orig_nbformat": 4
 },
 "nbformat": 4,
 "nbformat_minor": 2
}
