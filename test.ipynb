{
 "cells": [
  {
   "cell_type": "code",
   "execution_count": 14,
   "metadata": {
    "vscode": {
     "languageId": "shellscript"
    }
   },
   "outputs": [
    {
     "name": "stdout",
     "output_type": "stream",
     "text": [
      "WARNING:tensorflow:From /Users/tangqh/opt/miniconda3/envs/pytorch_m1/lib/python3.10/site-packages/tensorflow/python/compat/v2_compat.py:107: disable_resource_variables (from tensorflow.python.ops.variable_scope) is deprecated and will be removed in a future version.\n",
      "Instructions for updating:\n",
      "non-resource variables are not supported in the long term\n",
      "Padding inputs: padx=8, pady=8 (max_multiple=2)\n",
      "WARNING:tensorflow:From /Users/tangqh/opt/miniconda3/envs/pytorch_m1/lib/python3.10/site-packages/tensorflow/python/util/dispatch.py:1176: to_float (from tensorflow.python.ops.math_ops) is deprecated and will be removed in a future version.\n",
      "Instructions for updating:\n",
      "Use `tf.cast` instead.\n",
      "W0703 12:06:16.191519 8389385728 deprecation.py:350] From /Users/tangqh/opt/miniconda3/envs/pytorch_m1/lib/python3.10/site-packages/tensorflow/python/util/dispatch.py:1176: to_float (from tensorflow.python.ops.math_ops) is deprecated and will be removed in a future version.\n",
      "Instructions for updating:\n",
      "Use `tf.cast` instead.\n",
      "Original size: width=1920, height=1080\n",
      "     MPI size: width=1936, height=1088\n",
      "Traceback (most recent call last):\n",
      "  File \"/Users/tangqh/Documents/projects/spoon/stereo-magnification/./mpi_from_images.py\", line 367, in <module>\n",
      "    tf.app.run()\n",
      "  File \"/Users/tangqh/opt/miniconda3/envs/pytorch_m1/lib/python3.10/site-packages/tensorflow/python/platform/app.py\", line 36, in run\n",
      "    _run(main=main, argv=argv, flags_parser=_parse_flags_tolerate_undef)\n",
      "  File \"/Users/tangqh/opt/miniconda3/envs/pytorch_m1/lib/python3.10/site-packages/absl/app.py\", line 308, in run\n",
      "    _run_main(main, args)\n",
      "  File \"/Users/tangqh/opt/miniconda3/envs/pytorch_m1/lib/python3.10/site-packages/absl/app.py\", line 254, in _run_main\n",
      "    sys.exit(main(argv))\n",
      "  File \"/Users/tangqh/Documents/projects/spoon/stereo-magnification/./mpi_from_images.py\", line 271, in main\n",
      "    outputs = model.infer_mpi(\n",
      "  File \"/Users/tangqh/Documents/projects/spoon/stereo-magnification/stereomag/mpi.py\", line 71, in infer_mpi\n",
      "    net_input = self.format_network_input(ref_image, src_images[:, :, :, 3:],\n",
      "  File \"/Users/tangqh/Documents/projects/spoon/stereo-magnification/stereomag/mpi.py\", line 402, in format_network_input\n",
      "    curr_psv = pj.plane_sweep(\n",
      "  File \"/Users/tangqh/Documents/projects/spoon/stereo-magnification/geometry/projector.py\", line 211, in plane_sweep\n",
      "    warped_img = projective_inverse_warp(img, curr_depth, pose, intrinsics)\n",
      "  File \"/Users/tangqh/Documents/projects/spoon/stereo-magnification/geometry/projector.py\", line 164, in projective_inverse_warp\n",
      "    output_img = tf.compat.v1.estimator.resampler.resampler(\n",
      "  File \"/Users/tangqh/opt/miniconda3/envs/pytorch_m1/lib/python3.10/site-packages/tensorflow/python/util/lazy_loader.py\", line 59, in __getattr__\n",
      "    return getattr(module, item)\n",
      "  File \"/Users/tangqh/opt/miniconda3/envs/pytorch_m1/lib/python3.10/site-packages/tensorflow/python/util/module_wrapper.py\", line 232, in _getattr\n",
      "    attr = getattr(self._tfmw_wrapped_module, name)\n",
      "AttributeError: module 'tensorflow_estimator.python.estimator.api._v1.estimator' has no attribute 'resampler'\n"
     ]
    }
   ],
   "source": [
    "# @title Run example\n",
    "\n",
    "# To generate an MPI and render sample output images for this example image\n",
    "# pair, run the following sample command:\n",
    "\n",
    "!python ./mpi_from_images.py \\\n",
    "  --image1=examples/bananas/bananas1.jpg \\\n",
    "  --image2=examples/bananas/bananas2.jpg \\\n",
    "  --pose1=\"0.999947548 -0.001357046 -0.010151989 0.359417914 0.001413203 0.999983728 0.005526535 -0.003794850 0.010144324 -0.005540592 0.999933183 0.124850837\" \\\n",
    "  --pose2=\"0.999962628 -0.002106981 -0.008386925 0.376296459 0.002151508 0.999983609 0.005303705 -0.001512435 0.008375612 -0.005321552 0.999950767 0.124671650\" \\\n",
    "  --xoffset=0.017 \\\n",
    "  --output_dir=examples/bananas/results \\\n",
    "  --render_multiples=-2,-1.5,-1,-0.5,0,0.5,1,1.5,2 \\\n",
    "  --render"
   ]
  }
 ],
 "metadata": {
  "kernelspec": {
   "display_name": "pytorch_m1",
   "language": "python",
   "name": "python3"
  },
  "language_info": {
   "codemirror_mode": {
    "name": "ipython",
    "version": 3
   },
   "file_extension": ".py",
   "mimetype": "text/x-python",
   "name": "python",
   "nbconvert_exporter": "python",
   "pygments_lexer": "ipython3",
   "version": "3.10.11"
  },
  "orig_nbformat": 4
 },
 "nbformat": 4,
 "nbformat_minor": 2
}
